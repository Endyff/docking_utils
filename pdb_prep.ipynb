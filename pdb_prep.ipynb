{
 "cells": [
  {
   "cell_type": "code",
   "execution_count": 1,
   "metadata": {},
   "outputs": [],
   "source": [
    "from biopandas.pdb import PandasPdb\n",
    "from openbabel import openbabel, pybel\n",
    "from pathlib import Path\n",
    "import sys\n",
    "import pandas as pd\n",
    "from copy import copy\n",
    "from tqdm import tqdm\n",
    "import glob\n",
    "import os\n",
    "\n"
   ]
  },
  {
   "cell_type": "code",
   "execution_count": 2,
   "metadata": {},
   "outputs": [],
   "source": [
    "pdb_lip = dict()\n",
    "with open('data/pdb_lipid.txt', 'r') as f:\n",
    "    pdb_lip = {line.split()[0]: line.split()[1] for line in f.read().splitlines()}"
   ]
  },
  {
   "cell_type": "code",
   "execution_count": 3,
   "metadata": {},
   "outputs": [],
   "source": [
    "base_path = Path('/Users/bouceond/phd/datasets/umol_predictions/')\n",
    "\n",
    "for pdb in base_path.iterdir():\n",
    "    if pdb.stem.startswith('.'):\n",
    "        continue\n",
    "    for file in glob.glob(str(pdb / '*.sdf')):\n",
    "        os.remove(file)\n",
    "\n",
    "\n",
    "for f in Path('tmp/').iterdir():\n",
    "    os.remove(f)"
   ]
  },
  {
   "cell_type": "code",
   "execution_count": null,
   "metadata": {},
   "outputs": [],
   "source": [
    "\n",
    "# ground_truth\n",
    "for pdb in tqdm(base_path.iterdir(), total=len(list(base_path.iterdir()))):\n",
    "    if pdb.stem.startswith('.'):\n",
    "        continue\n",
    "    # if pdb.stem.lower() != '7bwl':\n",
    "    #     continue\n",
    "\n",
    "    # ground truth\n",
    "    aa = pdb\n",
    "    pdb_code = pdb.stem.lower()\n",
    "    ligand = pdb_lip[pdb_code]\n",
    "    gt_path = pdb / 'output/gt_align.pdb'\n",
    "    with open(gt_path, 'r') as f:\n",
    "        lines = f.readlines()\n",
    "    filtered_lines = list(filter(lambda x: x.startswith('HETATM') and (x[17:20].strip() == ligand), lines))\n",
    "\n",
    "    atom_idxs = {int(line[6:11].strip()) for line in filtered_lines}\n",
    "    insertions = {line[16].strip() for line in filtered_lines}\n",
    "    # if len(insertions) > 1:\n",
    "    #     # print(pdb_code)\n",
    "    #     insertions = {\"\"}\n",
    "    connections = list(filter(lambda x: x.startswith('CONECT'), lines))\n",
    "    new_connections = []\n",
    "    for connection in connections:\n",
    "        atoms = connection.split()[1:]\n",
    "        out_connection = ['CONECT']\n",
    "        out_connection.extend([atom for atom in atoms if int(atom) in atom_idxs])\n",
    "        if len(out_connection) == 1:\n",
    "            continue\n",
    "        new_connection = ' '.join(out_connection) +'\\n'\n",
    "        new_connections.append(new_connection)\n",
    "    # # print(connections)\n",
    "    if len(insertions) == 1:\n",
    "        new_path = f'tmp/{pdb_code}_mol_true.pdb'\n",
    "        with open(new_path, 'w') as f:\n",
    "            for line in filtered_lines:\n",
    "                f.write(line)\n",
    "            for connection in new_connections:\n",
    "                f.write(connection)\n",
    "        # antechamber -i new.pdb -fi pdb -o new.mol2 -fo mol2 -at sybyl\n",
    "        mol2_path = f'tmp/{pdb_code}_mol_true.mol2'\n",
    "        cmd = f'antechamber -i {new_path} -fi pdb -o {mol2_path} -fo mol2 -at sybyl -dr no -j 5'\n",
    "        !{cmd}\n",
    "\n",
    "        supplier = pybel.readfile('mol2', mol2_path)\n",
    "        # print(supplier)\n",
    "        mol = next(supplier)\n",
    "        mol.removeh()\n",
    "        new_path = f'{pdb}/mol_true.sdf'\n",
    "        mol.write('sdf', new_path, overwrite=True)\n",
    "\n",
    "    else:\n",
    "        print(pdb_code)\n",
    "        for insertion in insertions:\n",
    "            new_path = f'tmp/{pdb_code}_mol_true_{insertion}.pdb'\n",
    "\n",
    "            if insertion == \"\":\n",
    "                continue\n",
    "            filtered_lines_copy = copy(filtered_lines)\n",
    "            filtered_lines_copy = list(filter(lambda x: x[16].strip() in [insertion, \"\"], filtered_lines_copy))\n",
    "            atom_idxs = {int(line[6:11].strip()) for line in filtered_lines_copy}\n",
    "            new_connections = []\n",
    "            for connection in connections:\n",
    "                atoms = connection.split()[1:]\n",
    "                out_connection = ['CONECT']\n",
    "                out_connection.extend([atom for atom in atoms if int(atom) in atom_idxs])\n",
    "                # out_connection.extend([atom for atom in atoms])\n",
    "                if len(out_connection) == 1:\n",
    "                    continue\n",
    "                new_connection = ' '.join(out_connection) +'\\n'\n",
    "                new_connections.append(new_connection)\n",
    "\n",
    "                with open(new_path, 'w') as f:\n",
    "                    for line in filtered_lines_copy:\n",
    "                        f.write(line)\n",
    "                    for connection in new_connections:\n",
    "                        f.write(connection)\n",
    "\n",
    "            mol2_path = f'tmp/{pdb_code}_mol_true_{insertion}.mol2'\n",
    "            cmd = f'antechamber -i {new_path} -fi pdb -o {mol2_path} -fo mol2 -at sybyl -dr no -j 5'\n",
    "            !{cmd}\n",
    "\n",
    "            supplier = pybel.readfile('mol2', mol2_path)\n",
    "            # print(supplier)\n",
    "            mol = next(supplier)\n",
    "            mol.removeh()\n",
    "            new_path = f'{pdb}/mol_true_{insertion}.sdf'\n",
    "            mol.write('sdf', new_path, overwrite=True)\n",
    "\n",
    "\n",
    "\n",
    "    # predicted\n",
    "    predicted_path = pdb / 'output/pred_align.pdb'\n",
    "\n",
    "    with open(predicted_path, 'r') as f:\n",
    "        lines = f.readlines()\n",
    "    filtered_lines = list(filter(lambda x: x.startswith('HETATM') and (x[17:20].strip() == 'UNK'), lines))\n",
    "\n",
    "    atom_idxs = {int(line[6:11].strip()) for line in filtered_lines}\n",
    "    insertions = {line[16].strip() for line in filtered_lines}\n",
    "    connections = list(filter(lambda x: x.startswith('CONECT'), lines))\n",
    "    new_connections = []\n",
    "    for connection in connections:\n",
    "        atoms = connection.split()[1:]\n",
    "        out_connection = ['CONECT']\n",
    "        out_connection.extend([atom for atom in atoms if int(atom) in atom_idxs])\n",
    "        if len(out_connection) == 1:\n",
    "            continue\n",
    "        new_connection = ' '.join(out_connection) +'\\n'\n",
    "        new_connections.append(new_connection)\n",
    "\n",
    "    new_path = f'tmp/{pdb_code}_mol_pred.pdb'\n",
    "    with open(new_path, 'w') as f:\n",
    "        for line in filtered_lines:\n",
    "            f.write(line)\n",
    "        for connection in new_connections:\n",
    "            f.write(connection)\n",
    "    print(f'{new_path=} saved')\n",
    "    mol2_path = f'tmp/{pdb_code}_mol_pred.mol2'\n",
    "    cmd = f'antechamber -i {new_path} -fi pdb -o {mol2_path} -fo mol2 -at sybyl -dr no -j 5'\n",
    "    !{cmd}\n",
    "\n",
    "    supplier = pybel.readfile('mol2', mol2_path)\n",
    "    # print(supplier)\n",
    "    mol = next(supplier)\n",
    "    mol.removeh()\n",
    "    new_path = f'{pdb}/mol_pred.sdf'\n",
    "    mol.write('sdf', new_path, overwrite=True)\n",
    "\n"
   ]
  },
  {
   "cell_type": "code",
   "execution_count": 5,
   "metadata": {},
   "outputs": [
    {
     "ename": "ZeroDivisionError",
     "evalue": "division by zero",
     "output_type": "error",
     "traceback": [
      "\u001b[0;31m---------------------------------------------------------------------------\u001b[0m",
      "\u001b[0;31mZeroDivisionError\u001b[0m                         Traceback (most recent call last)",
      "Cell \u001b[0;32mIn[5], line 1\u001b[0m\n\u001b[0;32m----> 1\u001b[0m \u001b[38;5;241;43m0\u001b[39;49m\u001b[38;5;241;43m/\u001b[39;49m\u001b[38;5;241;43m0\u001b[39;49m\n\u001b[1;32m      3\u001b[0m get_ipython()\u001b[38;5;241m.\u001b[39msystem(\u001b[38;5;124m'\u001b[39m\u001b[38;5;124mantechamber -i tmp/7w8f_mol_true.pdb -fi pdb -o tmp/7w8f_mol_true.mol2 -fo mol2 -at sybyl -j 5 -s 0\u001b[39m\u001b[38;5;124m'\u001b[39m)\n",
      "\u001b[0;31mZeroDivisionError\u001b[0m: division by zero"
     ]
    }
   ],
   "source": [
    "0/0\n",
    "\n",
    "!antechamber -i tmp/7w8f_mol_true.pdb -fi pdb -o tmp/7w8f_mol_true.mol2 -fo mol2 -at sybyl -j 5 -s 0\n",
    "\n"
   ]
  },
  {
   "cell_type": "code",
   "execution_count": null,
   "metadata": {},
   "outputs": [],
   "source": [
    "supplier = pybel.readfile('mol2', 'tmp/4qf7_mol_true.mol2')\n",
    "# print(supplier)\n",
    "mol = next(supplier)\n",
    "mol.removeh()\n",
    "new_path = f'{pdb}/mol_true.sdf'\n",
    "mol.write('sdf', 'out.sdf', overwrite=True)"
   ]
  },
  {
   "cell_type": "code",
   "execution_count": null,
   "metadata": {},
   "outputs": [
    {
     "name": "stdout",
     "output_type": "stream",
     "text": [
      "/Users/bouceond/phd/datasets/umol_predictions/1KQW/mol_cond.pdb /Users/bouceond/phd/datasets/umol_predictions/1KQW/mol_true_A.sdf /Users/bouceond/phd/datasets/umol_predictions/1KQW/mol_pred.sdf\n",
      "/Users/bouceond/phd/datasets/umol_predictions/1KQW/mol_cond.pdb /Users/bouceond/phd/datasets/umol_predictions/1KQW/mol_true_B.sdf /Users/bouceond/phd/datasets/umol_predictions/1KQW/mol_pred.sdf\n"
     ]
    }
   ],
   "source": [
    "s = \"\"\"/Users/bouceond/phd/datasets/umol_predictions/1KQW/mol_cond.pdb,/Users/bouceond/phd/datasets/umol_predictions/1KQW/mol_true_A.sdf,/Users/bouceond/phd/datasets/umol_predictions/1KQW/mol_pred.sdf\n",
    "/Users/bouceond/phd/datasets/umol_predictions/1KQW/mol_cond.pdb,/Users/bouceond/phd/datasets/umol_predictions/1KQW/mol_true_B.sdf,/Users/bouceond/phd/datasets/umol_predictions/1KQW/mol_pred.sdf\"\"\".split('\\n')\n",
    "for a in s:\n",
    "    print(*a.split(','))"
   ]
  },
  {
   "cell_type": "code",
   "execution_count": null,
   "metadata": {},
   "outputs": [],
   "source": [
    "# prediction\n",
    "\n",
    "\n",
    "for pdb in base_path.iterdir():\n",
    "    if pdb.stem.startswith('.'):\n",
    "        continue\n",
    "\n",
    "    pdb_code = pdb.stem.lower()\n",
    "    ligand = pdb_lip[pdb_code]\n",
    "    gt_path = pdb / 'output/pred_align.pdb'\n",
    "    ppdb = PandasPdb().read_pdb(str(gt_path))\n",
    "    # print(ppdb)\n",
    "\n",
    "    hetatm_df = ppdb.df['HETATM'].copy()\n",
    "    hetatm_df = hetatm_df.loc[hetatm_df['residue_name'] == 'UNK']\n",
    "    name = f'{pdb_code}_pred.pdb'\n",
    "    ppdb.to_pdb(f'tmp/{name}', records=['HETATM'])\n",
    "\n",
    "    mol = next(pybel.readfile('pdb', f'tmp/{name}'))\n",
    "    name = f'mol_pred.sdf'\n",
    "    new_path = str(pdb / name)\n",
    "    # print(new_path, file=sys.stderr)\n",
    "    mol.write('sdf', new_path, overwrite=True)\n"
   ]
  },
  {
   "cell_type": "code",
   "execution_count": null,
   "metadata": {},
   "outputs": [],
   "source": [
    "0/0\n",
    "df = PandasPdb().read_pdb(str(aa / 'output/gt_align.pdb')).df\n",
    "df['HETATM']\n"
   ]
  },
  {
   "cell_type": "code",
   "execution_count": null,
   "metadata": {},
   "outputs": [],
   "source": [
    "p = '/Users/bouceond/phd/datasets/umol_predictions/6BC4/output/pred_align.pdb'\n",
    "print(p)"
   ]
  },
  {
   "cell_type": "code",
   "execution_count": null,
   "metadata": {},
   "outputs": [],
   "source": [
    "mol = next(pybel.readfile('pdb', f'tmp/6bc4_pred.pdb'))\n",
    "mol"
   ]
  },
  {
   "cell_type": "code",
   "execution_count": null,
   "metadata": {},
   "outputs": [],
   "source": [
    "data = []\n",
    "for p in base_path.iterdir():\n",
    "    if p.stem.startswith('.'):\n",
    "        continue\n",
    "    trues = [f for f in p.iterdir() if f.stem.startswith('mol_true') and f.suffix == '.sdf']\n",
    "\n",
    "    mol_cond = p / 'mol_cond.pdb'\n",
    "    mol_pred = p / 'mol_pred.sdf'\n",
    "\n",
    "    for true in trues:\n",
    "        # print(pred_file)\n",
    "        data.append([mol_cond, true, mol_pred])\n",
    "pd.DataFrame(data, columns=['path_cond', 'path_true', 'path_pred']).to_csv('data/umol_lipid.csv', index=False)"
   ]
  },
  {
   "cell_type": "code",
   "execution_count": null,
   "metadata": {},
   "outputs": [],
   "source": [
    "0/0"
   ]
  },
  {
   "cell_type": "code",
   "execution_count": null,
   "metadata": {},
   "outputs": [],
   "source": [
    "obConversion = openbabel.OBConversion()\n",
    "obConversion.SetInAndOutFormats('pdb', 'sdf')\n",
    "mol = openbabel.OBMol()\n",
    "mol = next(pybel.readfile('pdb', 'test.pdb'))\n",
    "mol.write('sdf', f'test.sdf', overwrite=True)"
   ]
  },
  {
   "cell_type": "code",
   "execution_count": null,
   "metadata": {},
   "outputs": [
    {
     "name": "stdout",
     "output_type": "stream",
     "text": [
      "\n",
      "Welcome to antechamber 22.0: molecular input file processor.\n",
      "\n",
      "\u001b[31mUsage: antechamber -i    \u001b[0m input file name\n",
      "\u001b[31m                   -fi   \u001b[0m input file format\n",
      "\u001b[31m                   -o    \u001b[0m output file name\n",
      "\u001b[31m                   -fo   \u001b[0m output file format\n",
      "\u001b[31m                   -c    \u001b[0m charge method\n",
      "\u001b[31m                   -cf   \u001b[0m charge file name\n",
      "\u001b[31m                   -nc   \u001b[0m net molecular charge (int)\n",
      "\u001b[31m                   -a    \u001b[0m additional file name\n",
      "\u001b[31m                   -fa   \u001b[0m additional file format\n",
      "\u001b[31m                   -ao   \u001b[0m additional file operation\n",
      "\u001b[34m                          crd   \u001b[0m: only read in coordinate\n",
      "\u001b[34m                          crg   \u001b[0m: only read in charge\n",
      "\u001b[34m                          radius\u001b[0m: only read in radius\n",
      "\u001b[34m                          name  \u001b[0m: only read in atom name\n",
      "\u001b[34m                          type  \u001b[0m: only read in atom type\n",
      "\u001b[34m                          bond  \u001b[0m: only read in bond type \n",
      "\u001b[31m                   -m    \u001b[0m multiplicity (2S+1), default is 1\n",
      "\u001b[31m                   -rn   \u001b[0m residue name, overrides input file, default is MOL\n",
      "\u001b[31m                   -rf   \u001b[0m residue toplogy file name in prep input file,\n",
      "                          default is molecule.res\n",
      "\u001b[31m                   -ch   \u001b[0m check file name for gaussian, default is 'molecule'\n",
      "\u001b[31m                   -ek   \u001b[0m mopac or sqm keyword, inside quotes; overwrites previous ones\n",
      "\u001b[31m                   -gk   \u001b[0m gaussian job keyword, inside quotes, is ignored when both -gopt and -gsp are used\n",
      "\u001b[31m                   -gopt \u001b[0m gaussian job keyword for optimization, inside quotes\n",
      "\u001b[31m                   -gsp  \u001b[0m gaussian job keyword for single point calculation, inside quotes\n",
      "\u001b[31m                   -gm   \u001b[0m gaussian memory keyword, inside quotes, such as \"%mem=1000MB\"\n",
      "\u001b[31m                   -gn   \u001b[0m gaussian number of processors keyword, inside quotes, such as \"%nproc=8\"\n",
      "\u001b[31m                   -gdsk \u001b[0m gaussian maximum disk usage keyword, inside quotes, such as \"%maxdisk=50GB\"\n",
      "\u001b[31m                   -gv   \u001b[0m add keyword to generate gesp file (for Gaussian 09 only)\n",
      "\u001b[34m                          1    \u001b[0m: yes\n",
      "\u001b[34m                          0    \u001b[0m: no, the default\n",
      "\u001b[31m                   -ge   \u001b[0m gaussian esp file generated by iop(6/50=1), default is g09.gesp\n",
      "\u001b[31m                   -tor  \u001b[0m torsional angle list, inside a pair of quotes, such as \"1-2-3-4:0,5-6-7-8\"\n",
      "\u001b[34m                         \u001b[0m ':1' or ':0' indicates the torsional angle is frozen or not\n",
      "\u001b[31m                   -df   \u001b[0m am1-bcc precharge flag, 2 - use sqm(default); 0 - use mopac\n",
      "\u001b[31m                   -at   \u001b[0m atom type\n",
      "\u001b[34m                          gaff \u001b[0m: the default\n",
      "\u001b[34m                          gaff2\u001b[0m: for gaff2 (beta-version)\n",
      "\u001b[34m                          amber\u001b[0m: for PARM94/99/99SB\n",
      "\u001b[34m                          bcc  \u001b[0m: bcc \n",
      "\u001b[34m                          sybyl\u001b[0m: sybyl \n",
      "\u001b[31m                   -du   \u001b[0m fix duplicate atom names: yes(y)[default] or no(n)\n",
      "\u001b[31m                   -bk   \u001b[0m component/block Id, for ccif\n",
      "\u001b[31m                   -an   \u001b[0m adjust atom names: yes(y) or no(n)\n",
      "                          the default is 'y' for 'mol2' and 'ac' and 'n' for the other formats \n",
      "\u001b[31m                   -j    \u001b[0m atom type and bond type prediction index, default is 4 \n",
      "\u001b[34m                          0    \u001b[0m: no assignment\n",
      "\u001b[34m                          1    \u001b[0m: atom type \n",
      "\u001b[34m                          2    \u001b[0m: full  bond types \n",
      "\u001b[34m                          3    \u001b[0m: part  bond types \n",
      "\u001b[34m                          4    \u001b[0m: atom and full bond type \n",
      "\u001b[34m                          5    \u001b[0m: atom and part bond type \n",
      "\u001b[31m                   -s    \u001b[0m status information: 0(brief), 1(default) or 2(verbose)\n",
      "\u001b[31m                   -eq   \u001b[0m equalizing atomic charge, default is 1 for '-c resp' and '-c bcc' and 0 for the other charge methods \n",
      "\u001b[34m                          0    \u001b[0m: no use\n",
      "\u001b[34m                          1    \u001b[0m: by atomic paths \n",
      "\u001b[34m                          2    \u001b[0m: by atomic paths and structural information, i.e. E/Z configurations \n",
      "\u001b[31m                   -pf   \u001b[0m remove intermediate files: yes(y) or no(n)[default]\n",
      "\u001b[31m                   -pl   \u001b[0m maximum path length to determin equivalence of atomic charges for resp and bcc,\n",
      "\u001b[31m                         \u001b[0m the smaller the value, the faster the algorithm, default is -1 (use full length),\n",
      "\u001b[31m                         \u001b[0m set this parameter to 10 to 30 if your molecule is big (# atoms >= 100)\n",
      "\u001b[31m                   -seq  \u001b[0m atomic sequence order changable: yes(y)[default] or no(n)\n",
      "\u001b[31m                   -dr   \u001b[0m acdoctor mode: yes(y)[default] or no(n)\n",
      "\u001b[31m                   -i -o -fi and -fo must appear; others are optional\u001b[0m\n",
      "\u001b[32m                   Use 'antechamber -L' to list the supported file formats and charge methods\u001b[0m\n"
     ]
    }
   ],
   "source": [
    "!antechamber"
   ]
  },
  {
   "cell_type": "code",
   "execution_count": null,
   "metadata": {},
   "outputs": [],
   "source": []
  },
  {
   "cell_type": "code",
   "execution_count": null,
   "metadata": {},
   "outputs": [],
   "source": [
    "from openbabel import pybel"
   ]
  },
  {
   "cell_type": "code",
   "execution_count": null,
   "metadata": {},
   "outputs": [],
   "source": [
    "?pybel.readfile"
   ]
  }
 ],
 "metadata": {
  "kernelspec": {
   "display_name": "docking_utils",
   "language": "python",
   "name": "python3"
  },
  "language_info": {
   "codemirror_mode": {
    "name": "ipython",
    "version": 3
   },
   "file_extension": ".py",
   "mimetype": "text/x-python",
   "name": "python",
   "nbconvert_exporter": "python",
   "pygments_lexer": "ipython3",
   "version": "3.11.7"
  }
 },
 "nbformat": 4,
 "nbformat_minor": 2
}
